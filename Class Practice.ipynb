{
 "cells": [
  {
   "cell_type": "code",
   "execution_count": 2,
   "id": "2b92846b",
   "metadata": {},
   "outputs": [],
   "source": [
    "# Dependencies\n",
    "import json\n",
    "import requests\n",
    "from config import weather_api_key"
   ]
  },
  {
   "cell_type": "code",
   "execution_count": 4,
   "id": "1ae9fe49",
   "metadata": {},
   "outputs": [],
   "source": [
    "# Save config information\n",
    "url = \"https://api.openweathermap.org/data/2.5/weather?\"\n",
    "city = \"London\"\n",
    "\n",
    "# Build query URL\n",
    "query_url = url + \"appid=\" + weather_api_key + \"&q=\" + city"
   ]
  },
  {
   "cell_type": "code",
   "execution_count": 5,
   "id": "00bc67ae",
   "metadata": {},
   "outputs": [
    {
     "name": "stdout",
     "output_type": "stream",
     "text": [
      "The weather API responded with: {'coord': {'lon': -0.1257, 'lat': 51.5085}, 'weather': [{'id': 803, 'main': 'Clouds', 'description': 'broken clouds', 'icon': '04n'}], 'base': 'stations', 'main': {'temp': 287.04, 'feels_like': 286.78, 'temp_min': 283.4, 'temp_max': 288.01, 'pressure': 1029, 'humidity': 88}, 'visibility': 9000, 'wind': {'speed': 0, 'deg': 0}, 'clouds': {'all': 54}, 'dt': 1632183844, 'sys': {'type': 1, 'id': 1414, 'country': 'GB', 'sunrise': 1632203106, 'sunset': 1632247325}, 'timezone': 3600, 'id': 2643743, 'name': 'London', 'cod': 200}.\n"
     ]
    }
   ],
   "source": [
    "# Get weather data\n",
    "weather_response = requests.get(query_url)\n",
    "weather_json = weather_response.json()\n",
    "\n",
    "# Get the temperature from the response\n",
    "print(f\"The weather API responded with: {weather_json}.\")"
   ]
  },
  {
   "cell_type": "code",
   "execution_count": 11,
   "id": "146032e7",
   "metadata": {},
   "outputs": [],
   "source": [
    "# Build query URL and request your results in Celsius\n",
    "payload = {\n",
    "    'q': 'Bujumbura',\n",
    "    'appid': weather_api_key,\n",
    "    'units': 'metric'\n",
    "}\n",
    "\n",
    "\n",
    "# Get weather data\n",
    "\n",
    "response = requests.get(url, params = payload).json()"
   ]
  },
  {
   "cell_type": "code",
   "execution_count": 12,
   "id": "ddfc3703",
   "metadata": {},
   "outputs": [
    {
     "name": "stdout",
     "output_type": "stream",
     "text": [
      "{\n",
      "    \"coord\": {\n",
      "        \"lon\": 29.3644,\n",
      "        \"lat\": -3.3822\n",
      "    },\n",
      "    \"weather\": [\n",
      "        {\n",
      "            \"id\": 801,\n",
      "            \"main\": \"Clouds\",\n",
      "            \"description\": \"few clouds\",\n",
      "            \"icon\": \"02n\"\n",
      "        }\n",
      "    ],\n",
      "    \"base\": \"stations\",\n",
      "    \"main\": {\n",
      "        \"temp\": 23.38,\n",
      "        \"feels_like\": 23.42,\n",
      "        \"temp_min\": 23.38,\n",
      "        \"temp_max\": 23.38,\n",
      "        \"pressure\": 1012,\n",
      "        \"humidity\": 63,\n",
      "        \"sea_level\": 1012,\n",
      "        \"grnd_level\": 923\n",
      "    },\n",
      "    \"visibility\": 10000,\n",
      "    \"wind\": {\n",
      "        \"speed\": 1.62,\n",
      "        \"deg\": 41,\n",
      "        \"gust\": 2.68\n",
      "    },\n",
      "    \"clouds\": {\n",
      "        \"all\": 15\n",
      "    },\n",
      "    \"dt\": 1632184758,\n",
      "    \"sys\": {\n",
      "        \"country\": \"BI\",\n",
      "        \"sunrise\": 1632196350,\n",
      "        \"sunset\": 1632239930\n",
      "    },\n",
      "    \"timezone\": 7200,\n",
      "    \"id\": 425378,\n",
      "    \"name\": \"Bujumbura\",\n",
      "    \"cod\": 200\n",
      "}\n"
     ]
    }
   ],
   "source": [
    "# Get temperature from JSON response\n",
    "print(json.dumps(response,indent = 4))"
   ]
  },
  {
   "cell_type": "code",
   "execution_count": 17,
   "id": "bab19f23",
   "metadata": {},
   "outputs": [
    {
     "name": "stdout",
     "output_type": "stream",
     "text": [
      "the temperature in Imperial is 74.08\n",
      "the temperature in Metric is 23.38\n"
     ]
    }
   ],
   "source": [
    "# Report temperature\n",
    "unit_list = ['Imperial', 'Metric']\n",
    "\n",
    "for unit_type in unit_list:\n",
    "    payload['units'] = unit_type\n",
    "    response = requests.get(url, params = payload).json()\n",
    "    print(f\"the temperature in {unit_type} is {response['main']['temp']}\")"
   ]
  },
  {
   "cell_type": "code",
   "execution_count": null,
   "id": "fea4539d",
   "metadata": {},
   "outputs": [],
   "source": []
  }
 ],
 "metadata": {
  "kernelspec": {
   "display_name": "PythonData",
   "language": "python",
   "name": "pythondata"
  },
  "language_info": {
   "codemirror_mode": {
    "name": "ipython",
    "version": 3
   },
   "file_extension": ".py",
   "mimetype": "text/x-python",
   "name": "python",
   "nbconvert_exporter": "python",
   "pygments_lexer": "ipython3",
   "version": "3.8.8"
  }
 },
 "nbformat": 4,
 "nbformat_minor": 5
}
